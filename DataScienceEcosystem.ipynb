{
 "cells": [
  {
   "cell_type": "markdown",
   "id": "354ac45f-ecf5-4e01-bf72-bb47a600dcf4",
   "metadata": {},
   "source": [
    "# Data Science Tools and Ecosystem"
   ]
  },
  {
   "cell_type": "markdown",
   "id": "4c57b115-9e97-434f-93f5-279dbb15da05",
   "metadata": {},
   "source": [
    "In this notebook, Data Science Tools and Ecosystem are summarized."
   ]
  },
  {
   "cell_type": "markdown",
   "id": "52428e73-e31b-46df-b43c-b9e1c915627d",
   "metadata": {},
   "source": [
    "**Objectives:**\n",
    "- Popular languagess for Data Science\n",
    "- Commonly used libraries\n",
    "- Popular Data Science Tools"
   ]
  },
  {
   "cell_type": "markdown",
   "id": "3cea3076-89ba-4179-b6f0-8a4c85c0bd9f",
   "metadata": {},
   "source": [
    "Some of the popular languages that Data Scientists use are:\n",
    "1. Python\n",
    "2. R\n",
    "3. SQL\n",
    "4. Java\n",
    "5. C++"
   ]
  },
  {
   "cell_type": "markdown",
   "id": "edd53a84-71de-46d0-bc62-ffab3f23b6fa",
   "metadata": {},
   "source": [
    "Some of the commonly used libraries used by Data Scientists include:\n",
    "1. Pandas\n",
    "2. Numpy\n",
    "3. Scipy\n",
    "4. Matplotlib"
   ]
  },
  {
   "cell_type": "markdown",
   "id": "3acddae8-fec4-41dd-83da-8dbc05aebec8",
   "metadata": {},
   "source": [
    "| Data Science Tools |\n",
    "|----|\n",
    "| Jupyter Notebook |\n",
    "| Pytorch |\n",
    "| Hugging Face |"
   ]
  },
  {
   "cell_type": "markdown",
   "id": "ee2256af-1317-4e9e-9506-bb6625f81234",
   "metadata": {},
   "source": [
    "### Below are a few examples of evaluating arithmetic expressions in Python"
   ]
  },
  {
   "cell_type": "code",
   "execution_count": 10,
   "id": "3a77ed08-f1ec-46f0-a461-32262d07b4a4",
   "metadata": {},
   "outputs": [
    {
     "data": {
      "text/plain": [
       "17"
      ]
     },
     "execution_count": 10,
     "metadata": {},
     "output_type": "execute_result"
    }
   ],
   "source": [
    "# This is a simple arithmetic expression to multipy then add integers\n",
    "(3*4)+5"
   ]
  },
  {
   "cell_type": "code",
   "execution_count": 16,
   "id": "c12ca59a-16a0-4c0c-9926-aa81c3d42b1b",
   "metadata": {},
   "outputs": [
    {
     "name": "stdout",
     "output_type": "stream",
     "text": [
      "3.3333333333333335\n"
     ]
    }
   ],
   "source": [
    "# This will convert 200 minutes to hours by diving by 60\n",
    "min==200\n",
    "hour=min/60\n",
    "print(hour)"
   ]
  },
  {
   "cell_type": "markdown",
   "id": "d37621ef-f5c2-48c3-91cf-a47237342a3b",
   "metadata": {},
   "source": [
    "## Author Jiahui Chen"
   ]
  }
 ],
 "metadata": {
  "kernelspec": {
   "display_name": "Python 3 (ipykernel)",
   "language": "python",
   "name": "python3"
  },
  "language_info": {
   "codemirror_mode": {
    "name": "ipython",
    "version": 3
   },
   "file_extension": ".py",
   "mimetype": "text/x-python",
   "name": "python",
   "nbconvert_exporter": "python",
   "pygments_lexer": "ipython3",
   "version": "3.12.4"
  }
 },
 "nbformat": 4,
 "nbformat_minor": 5
}
